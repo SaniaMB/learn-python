{
 "cells": [
  {
   "metadata": {},
   "cell_type": "markdown",
   "source": "1) Program to reverse a number",
   "id": "8b74a5830eba39df"
  },
  {
   "metadata": {
    "ExecuteTime": {
     "end_time": "2025-08-09T16:06:53.453467Z",
     "start_time": "2025-08-09T16:06:47.414537Z"
    }
   },
   "cell_type": "code",
   "source": [
    "num = int(input(\"Enter a number\"))\n",
    "rev = 0\n",
    "while num != 0:\n",
    "    r = num % 10\n",
    "    rev = rev * 10 + r\n",
    "    num //= 10\n",
    "\n",
    "print(rev)\n"
   ],
   "id": "cd6d538a885f5a31",
   "outputs": [
    {
     "name": "stdout",
     "output_type": "stream",
     "text": [
      "3\n"
     ]
    }
   ],
   "execution_count": 7
  },
  {
   "metadata": {},
   "cell_type": "markdown",
   "source": "2) Checking for Palindrome Number",
   "id": "523cefae8c073f1a"
  },
  {
   "metadata": {
    "ExecuteTime": {
     "end_time": "2025-08-09T16:07:15.058596Z",
     "start_time": "2025-08-09T16:07:02.941554Z"
    }
   },
   "cell_type": "code",
   "source": [
    "num = int(input(\"Enter a number\"))\n",
    "temp = num\n",
    "rev = 0\n",
    "while temp != 0:\n",
    "    r = temp % 10\n",
    "    rev = rev * 10 + r\n",
    "    temp//=10\n",
    "\n",
    "if num == rev:\n",
    "    print(\"Is a Palindrome Number\")\n",
    "else:\n",
    "    print(\"Not a Palindrome Number\")\n",
    "\n"
   ],
   "id": "b2a75fb1c9483ec9",
   "outputs": [
    {
     "name": "stdout",
     "output_type": "stream",
     "text": [
      "Is a Palindrome Number\n"
     ]
    }
   ],
   "execution_count": 9
  },
  {
   "metadata": {},
   "cell_type": "markdown",
   "source": "3) Armstrong Number",
   "id": "769b413c56874a99"
  },
  {
   "metadata": {
    "ExecuteTime": {
     "end_time": "2025-08-09T16:13:14.046872Z",
     "start_time": "2025-08-09T16:13:09.490299Z"
    }
   },
   "cell_type": "code",
   "source": [
    "num = int(input(\"Enter a number: \"))\n",
    "count = 0\n",
    "temp = num\n",
    "temp2 = num\n",
    "total = 0\n",
    "\n",
    "while temp > 0:\n",
    "    temp //= 10\n",
    "    count += 1\n",
    "\n",
    "while num > 0:\n",
    "    digit = num % 10\n",
    "    total += digit ** count\n",
    "    num //= 10\n",
    "\n",
    "if temp2 == total:\n",
    "    print(\"Armstrong Number\")\n",
    "else:\n",
    "    print(\"Not an Armstrong Number\")\n"
   ],
   "id": "6ebea0ca40cf418c",
   "outputs": [
    {
     "name": "stdout",
     "output_type": "stream",
     "text": [
      "Armstrong Number\n"
     ]
    }
   ],
   "execution_count": 12
  },
  {
   "metadata": {},
   "cell_type": "markdown",
   "source": "4) Sum of Digits",
   "id": "baa72f06a6e23fd8"
  },
  {
   "metadata": {
    "ExecuteTime": {
     "end_time": "2025-08-09T16:15:59.926085Z",
     "start_time": "2025-08-09T16:15:54.747869Z"
    }
   },
   "cell_type": "code",
   "source": [
    "num = int(input(\"Enter a number\"))\n",
    "sum = 0\n",
    "\n",
    "while num != 0:\n",
    "    r = num % 10\n",
    "    sum += r\n",
    "    num //= 10\n",
    "\n",
    "print(sum)\n",
    "\n"
   ],
   "id": "3daeb896975e112a",
   "outputs": [
    {
     "name": "stdout",
     "output_type": "stream",
     "text": [
      "10\n"
     ]
    }
   ],
   "execution_count": 15
  },
  {
   "metadata": {},
   "cell_type": "markdown",
   "source": "5) List of even and odd numbers between range.",
   "id": "6f25e0277d1dbf4e"
  },
  {
   "metadata": {
    "ExecuteTime": {
     "end_time": "2025-08-09T16:20:43.523872Z",
     "start_time": "2025-08-09T16:20:37.291761Z"
    }
   },
   "cell_type": "code",
   "source": [
    "start = int(input(\"Enter start of range: \"))\n",
    "end = int(input(\"Enter end of range: \"))\n",
    "\n",
    "print(\"Even numbers\")\n",
    "for i in range(start, end + 1):\n",
    "    if i % 2 == 0:\n",
    "        print(i, end=\" \")\n",
    "\n",
    "print(\"\\nOdd numbers\")\n",
    "for i in range(start, end + 1):\n",
    "    if i % 2 != 0:\n",
    "        print(i, end=\" \")\n"
   ],
   "id": "9a330ecd6dbec7ad",
   "outputs": [
    {
     "name": "stdout",
     "output_type": "stream",
     "text": [
      "Even numbers\n",
      "2 4 6 8 10 \n",
      "Odd numbers\n",
      "1 3 5 7 9 "
     ]
    }
   ],
   "execution_count": 19
  },
  {
   "metadata": {},
   "cell_type": "markdown",
   "source": "6) Prime Number Validation",
   "id": "a5ed737a71a6e529"
  },
  {
   "metadata": {
    "ExecuteTime": {
     "end_time": "2025-08-09T16:26:44.666511Z",
     "start_time": "2025-08-09T16:26:41.632957Z"
    }
   },
   "cell_type": "code",
   "source": [
    "num = int(input(\"Enter a number: \"))\n",
    "\n",
    "if num <= 1:\n",
    "    print(\"Not a Prime Number\")\n",
    "else:\n",
    "    is_prime = True\n",
    "    for i in range(2, int(num ** 0.5) + 1):\n",
    "        if num % i == 0:\n",
    "            is_prime = False\n",
    "            break\n",
    "\n",
    "    if is_prime:\n",
    "        print(\"Prime Number\")\n",
    "    else:\n",
    "        print(\"Not a Prime Number\")\n"
   ],
   "id": "b02cb3e30b7d75be",
   "outputs": [
    {
     "name": "stdout",
     "output_type": "stream",
     "text": [
      "Prime Number\n"
     ]
    }
   ],
   "execution_count": 21
  }
 ],
 "metadata": {
  "kernelspec": {
   "display_name": "Python 3",
   "language": "python",
   "name": "python3"
  },
  "language_info": {
   "codemirror_mode": {
    "name": "ipython",
    "version": 2
   },
   "file_extension": ".py",
   "mimetype": "text/x-python",
   "name": "python",
   "nbconvert_exporter": "python",
   "pygments_lexer": "ipython2",
   "version": "2.7.6"
  }
 },
 "nbformat": 4,
 "nbformat_minor": 5
}
